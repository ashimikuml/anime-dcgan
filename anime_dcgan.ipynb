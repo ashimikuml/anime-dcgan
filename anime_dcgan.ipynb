{
  "nbformat": 4,
  "nbformat_minor": 0,
  "metadata": {
    "colab": {
      "name": "anime-dcgan.ipynb",
      "provenance": []
    },
    "kernelspec": {
      "name": "python3",
      "display_name": "Python 3"
    },
    "accelerator": "GPU"
  },
  "cells": [
    {
      "cell_type": "code",
      "metadata": {
        "id": "CQaxKbT6tqH1",
        "colab_type": "code",
        "colab": {
          "base_uri": "https://localhost:8080/",
          "height": 122
        },
        "outputId": "7105e416-3306-41da-a304-3551bb0a33a4"
      },
      "source": [
        "from google.colab import drive\n",
        "drive.mount('/content/gdrive')"
      ],
      "execution_count": 1,
      "outputs": [
        {
          "output_type": "stream",
          "text": [
            "Go to this URL in a browser: https://accounts.google.com/o/oauth2/auth?client_id=947318989803-6bn6qk8qdgf4n4g3pfee6491hc0brc4i.apps.googleusercontent.com&redirect_uri=urn%3aietf%3awg%3aoauth%3a2.0%3aoob&response_type=code&scope=email%20https%3a%2f%2fwww.googleapis.com%2fauth%2fdocs.test%20https%3a%2f%2fwww.googleapis.com%2fauth%2fdrive%20https%3a%2f%2fwww.googleapis.com%2fauth%2fdrive.photos.readonly%20https%3a%2f%2fwww.googleapis.com%2fauth%2fpeopleapi.readonly\n",
            "\n",
            "Enter your authorization code:\n",
            "··········\n",
            "Mounted at /content/gdrive\n"
          ],
          "name": "stdout"
        }
      ]
    },
    {
      "cell_type": "code",
      "metadata": {
        "id": "r7OSTYwgvi0e",
        "colab_type": "code",
        "colab": {}
      },
      "source": [
        "import os\n",
        "import tarfile\n",
        "tar_path = '/content/gdrive/My Drive/colab/data/animeface.tgz'\n",
        "os.makedirs('animeface')\n",
        "with tarfile.open(tar_path) as tar:\n",
        "  tar.extractall('animeface')"
      ],
      "execution_count": 0,
      "outputs": []
    },
    {
      "cell_type": "code",
      "metadata": {
        "id": "OhP4knq1wFWS",
        "colab_type": "code",
        "colab": {}
      },
      "source": [
        "import torchvision\n",
        "from torchvision.datasets.folder import default_loader\n",
        "from torchvision.transforms import Compose, Resize, ToTensor\n",
        "transform = Compose([Resize((64, 64)), ToTensor()])\n",
        "dataset = torchvision.datasets.DatasetFolder('animeface', default_loader, extensions=('jpg',), transform=transform)"
      ],
      "execution_count": 0,
      "outputs": []
    },
    {
      "cell_type": "code",
      "metadata": {
        "id": "4nuwyeHNzB3V",
        "colab_type": "code",
        "colab": {
          "base_uri": "https://localhost:8080/",
          "height": 425
        },
        "outputId": "52307fbb-3c73-473b-8043-26b6b31d9486"
      },
      "source": [
        "img = dataset.__getitem__(0)[0]\n",
        "print(img.size())\n",
        "print(img)"
      ],
      "execution_count": 10,
      "outputs": [
        {
          "output_type": "stream",
          "text": [
            "torch.Size([3, 64, 64])\n",
            "tensor([[[0.8392, 0.8353, 0.9059,  ..., 1.0000, 0.9882, 0.9765],\n",
            "         [0.9216, 0.9647, 0.9961,  ..., 0.9882, 0.9922, 1.0000],\n",
            "         [0.9608, 0.9922, 0.9961,  ..., 0.9922, 0.9961, 1.0000],\n",
            "         ...,\n",
            "         [0.4549, 0.4431, 0.3725,  ..., 0.4314, 0.3608, 0.2431],\n",
            "         [0.4745, 0.4275, 0.3529,  ..., 0.4157, 0.3412, 0.2039],\n",
            "         [0.4784, 0.4275, 0.3412,  ..., 0.3882, 0.3216, 0.1765]],\n",
            "\n",
            "        [[0.8235, 0.8235, 0.8863,  ..., 0.8980, 0.8902, 0.8824],\n",
            "         [0.9059, 0.9451, 0.9882,  ..., 0.8706, 0.8784, 0.8941],\n",
            "         [0.9255, 0.9569, 0.9569,  ..., 0.8510, 0.8627, 0.8863],\n",
            "         ...,\n",
            "         [0.4196, 0.4039, 0.3412,  ..., 0.3804, 0.3098, 0.1882],\n",
            "         [0.4275, 0.3882, 0.3137,  ..., 0.3765, 0.3020, 0.1608],\n",
            "         [0.4235, 0.3804, 0.3020,  ..., 0.3490, 0.2824, 0.1333]],\n",
            "\n",
            "        [[0.8118, 0.8039, 0.8627,  ..., 0.8745, 0.8706, 0.8745],\n",
            "         [0.8902, 0.9216, 0.9569,  ..., 0.8314, 0.8471, 0.8784],\n",
            "         [0.8980, 0.9216, 0.9216,  ..., 0.8039, 0.8235, 0.8510],\n",
            "         ...,\n",
            "         [0.7451, 0.7412, 0.6784,  ..., 0.7255, 0.6627, 0.5608],\n",
            "         [0.7569, 0.7255, 0.6549,  ..., 0.7176, 0.6510, 0.5294],\n",
            "         [0.7569, 0.7176, 0.6510,  ..., 0.6863, 0.6314, 0.5020]]])\n"
          ],
          "name": "stdout"
        }
      ]
    },
    {
      "cell_type": "code",
      "metadata": {
        "id": "PmcICRwVzrFK",
        "colab_type": "code",
        "colab": {}
      },
      "source": [
        ""
      ],
      "execution_count": 0,
      "outputs": []
    }
  ]
}